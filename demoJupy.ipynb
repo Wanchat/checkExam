{
 "cells": [
  {
   "cell_type": "code",
   "execution_count": 22,
   "outputs": [],
   "source": [
    "import numpy as np\n",
    "import cv2\n",
    "import imutils\n",
    "import pandas as pd\n",
    "import matplotlib.pyplot as plt\n",
    "import math"
   ],
   "metadata": {
    "collapsed": false,
    "pycharm": {
     "name": "#%%\n"
    }
   }
  },
  {
   "cell_type": "code",
   "execution_count": 23,
   "outputs": [],
   "source": [
    "answers = pd.read_excel('answerExam.xlsx')\n",
    "im = cv2.imread('image/5831.jpg')"
   ],
   "metadata": {
    "collapsed": false,
    "pycharm": {
     "name": "#%%\n"
    }
   }
  },
  {
   "cell_type": "code",
   "execution_count": 24,
   "outputs": [],
   "source": [
    "def order_points(pts):\n",
    "    rect = np.zeros((4, 2), dtype=\"float32\")\n",
    "\n",
    "    s = pts.sum(axis=1)\n",
    "    rect[0] = pts[np.argmin(s)]\n",
    "    rect[2] = pts[np.argmax(s)]\n",
    "\n",
    "    diff = np.diff(pts, axis=1)\n",
    "    rect[1] = pts[np.argmin(diff)]\n",
    "    rect[3] = pts[np.argmax(diff)]\n",
    "    return rect"
   ],
   "metadata": {
    "collapsed": false,
    "pycharm": {
     "name": "#%%\n"
    }
   }
  },
  {
   "cell_type": "code",
   "execution_count": 25,
   "outputs": [],
   "source": [
    "def four_point_transform(image, pts):\n",
    "\n",
    "    rect = order_points(pts)\n",
    "    (tl, tr, br, bl) = rect\n",
    "\n",
    "    widthA = np.sqrt(((br[0] - bl[0]) ** 2) + ((br[1] - bl[1]) ** 2))\n",
    "    widthB = np.sqrt(((tr[0] - tl[0]) ** 2) + ((tr[1] - tl[1]) ** 2))\n",
    "    maxWidth = max(int(widthA), int(widthB))\n",
    "\n",
    "    heightA = np.sqrt(((tr[0] - br[0]) ** 2) + ((tr[1] - br[1]) ** 2))\n",
    "    heightB = np.sqrt(((tl[0] - bl[0]) ** 2) + ((tl[1] - bl[1]) ** 2))\n",
    "    maxHeight = max(int(heightA), int(heightB))\n",
    "\n",
    "    dst = np.array([\n",
    "        [0, 0],\n",
    "        [maxWidth - 1, 0],\n",
    "        [maxWidth - 1, maxHeight - 1],\n",
    "        [0, maxHeight - 1]], dtype=\"float32\")\n",
    "\n",
    "    M = cv2.getPerspectiveTransform(rect, dst)\n",
    "    warped = cv2.warpPerspective(image, M, (maxWidth, maxHeight))\n",
    "\n",
    "    return warped"
   ],
   "metadata": {
    "collapsed": false,
    "pycharm": {
     "name": "#%%\n"
    }
   }
  },
  {
   "cell_type": "code",
   "execution_count": 26,
   "outputs": [],
   "source": [
    "def warped(im):\n",
    "    ratio = im.shape[0] / 800.0\n",
    "    orig = im.copy()\n",
    "    im = imutils.resize(im, height = 800)\n",
    "    gray = cv2.cvtColor(im, cv2.COLOR_BGR2GRAY)\n",
    "    edged = cv2.Canny(gray, 75, 200)\n",
    "\n",
    "    cnts = cv2.findContours(edged.copy(), cv2.RETR_EXTERNAL, cv2.CHAIN_APPROX_SIMPLE)\n",
    "    cnts = imutils.grab_contours(cnts)\n",
    "    cnts = sorted(cnts, key = cv2.contourArea, reverse = True)[:8]\n",
    "\n",
    "    for index, c in enumerate(cnts):\n",
    "        peri = cv2.arcLength(c, True)\n",
    "        approx = cv2.approxPolyDP(c, 0.01 * peri, True)\n",
    "\n",
    "        if len(approx) == 4 and index == 0:\n",
    "            cv2.drawContours(im, [approx], -1, (0, 255, 0), 2)\n",
    "            transform = four_point_transform(orig, approx.reshape(4, 2) * ratio)\n",
    "            return cv2.resize(transform, (595, 842))"
   ],
   "metadata": {
    "collapsed": false,
    "pycharm": {
     "name": "#%%\n"
    }
   }
  },
  {
   "cell_type": "code",
   "execution_count": 27,
   "outputs": [],
   "source": [
    "def blankSpace(im):\n",
    "    answersSheet = warped(im)\n",
    "\n",
    "    height = 20\n",
    "    width = 40\n",
    "    ansDict = {\"a\": 100, \"b\": 140, \"c\": 180, \"d\": 220}\n",
    "\n",
    "    for num, ans in enumerate(answers['answers'][:26], start=1):\n",
    "        biasRow = int(5.27 * num)\n",
    "        biasCol = int(num * (5/ num ) if num != 0 else 0)\n",
    "\n",
    "        row = 180 + (num*height) + biasRow\n",
    "        col = ansDict[ans] + biasCol\n",
    "        blank = answersSheet[row:row+height, col:col+width]\n",
    "\n",
    "        if blank is not None :\n",
    "            return blank\n",
    "        else:\n",
    "            print(\"No find answers\")\n",
    "            continue"
   ],
   "metadata": {
    "collapsed": false,
    "pycharm": {
     "name": "#%%\n"
    }
   }
  },
  {
   "cell_type": "code",
   "execution_count": 28,
   "outputs": [],
   "source": [
    "def calculatingDegree(im):\n",
    "    blank = blankSpace(im)\n",
    "    blankGray = cv2.cvtColor(blank, cv2.COLOR_BGR2GRAY)\n",
    "\n",
    "    blankEdges = cv2.Canny(blankGray,50,220)\n",
    "    lines = cv2.HoughLines(blankEdges,1,np.pi/180,2)\n",
    "\n",
    "    print(lines)\n",
    "    upStatus = 0\n",
    "    downStatus = 0\n",
    "    if lines is not None:\n",
    "        for line in lines[0:10]:\n",
    "            for rho, theta in line:\n",
    "                a = np.cos(theta)\n",
    "                b = np.sin(theta)\n",
    "                x0 = a*rho\n",
    "                y0 = b*rho\n",
    "                x1 = int(x0 + 1000*(-b))\n",
    "                y1 = int(y0 + 1000*(a))\n",
    "                x2 = int(x0 - 1000*(-b))\n",
    "                y2 = int(y0 - 1000*(a))\n",
    "\n",
    "                # print(x1,y1,x2,y2)\n",
    "\n",
    "                if (x1 < 0 and y1 < 0) and (x2 > 0 and y2 > 0):\n",
    "                    downStatus += 1\n",
    "                    if downStatus < 2:\n",
    "                        p1, p2 = (x1, y1), (x2, y2)\n",
    "                        slantDown = 90-math.degrees(math.atan2(x2, y2))\n",
    "                elif (x1 < 0 < y1) and (x2 > 0 > y2):\n",
    "                    upStatus += 1\n",
    "                    if upStatus < 2:\n",
    "                        p1, p2 = (x1, y1), (x2, y2)\n",
    "                        slantUp = math.degrees(math.atan2(x1, y1))+90\n",
    "                else:\n",
    "                    p1, p2 = None, None\n",
    "\n",
    "                # print(slantUp, slantDown)\n",
    "                cv2.line(im,p1, p2,(0,0,255),2)\n",
    "\n",
    "        print(slantDown)\n",
    "    else:\n",
    "        pass\n"
   ],
   "metadata": {
    "collapsed": false,
    "pycharm": {
     "name": "#%%\n"
    }
   }
  },
  {
   "cell_type": "code",
   "execution_count": 29,
   "outputs": [
    {
     "name": "stdout",
     "output_type": "stream",
     "text": [
      "None\n"
     ]
    }
   ],
   "source": [
    "calculatingDegree(im)\n"
   ],
   "metadata": {
    "collapsed": false,
    "pycharm": {
     "name": "#%%\n"
    }
   }
  },
  {
   "cell_type": "code",
   "execution_count": 29,
   "outputs": [],
   "source": [],
   "metadata": {
    "collapsed": false,
    "pycharm": {
     "name": "#%%\n"
    }
   }
  },
  {
   "cell_type": "code",
   "execution_count": 29,
   "outputs": [],
   "source": [],
   "metadata": {
    "collapsed": false,
    "pycharm": {
     "name": "#%%\n"
    }
   }
  }
 ],
 "metadata": {
  "kernelspec": {
   "display_name": "Python 3",
   "language": "python",
   "name": "python3"
  },
  "language_info": {
   "codemirror_mode": {
    "name": "ipython",
    "version": 2
   },
   "file_extension": ".py",
   "mimetype": "text/x-python",
   "name": "python",
   "nbconvert_exporter": "python",
   "pygments_lexer": "ipython2",
   "version": "2.7.6"
  }
 },
 "nbformat": 4,
 "nbformat_minor": 0
}